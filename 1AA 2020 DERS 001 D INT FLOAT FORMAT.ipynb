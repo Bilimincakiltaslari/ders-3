{
 "cells": [
  {
   "cell_type": "code",
   "execution_count": 24,
   "metadata": {},
   "outputs": [],
   "source": [
    "a = \"TUNA\"\n",
    "b = \"KARABAŞ\"\n",
    "c = \"MERHABA\""
   ]
  },
  {
   "cell_type": "code",
   "execution_count": 25,
   "metadata": {},
   "outputs": [
    {
     "data": {
      "text/plain": [
       "'TUNAKARABAŞ'"
      ]
     },
     "execution_count": 25,
     "metadata": {},
     "output_type": "execute_result"
    }
   ],
   "source": [
    "a + b"
   ]
  },
  {
   "cell_type": "code",
   "execution_count": 27,
   "metadata": {},
   "outputs": [
    {
     "name": "stdout",
     "output_type": "stream",
     "text": [
      "TUNA KARABAŞ MERHABA\n"
     ]
    }
   ],
   "source": [
    "print(a,b,c)"
   ]
  },
  {
   "cell_type": "code",
   "execution_count": 29,
   "metadata": {},
   "outputs": [
    {
     "name": "stdout",
     "output_type": "stream",
     "text": [
      "Lütfen adınız ORHUN\n",
      "Lütfen soyadınızTUNGA\n",
      "Doğum yılınızı 4 rakam olarak giriniz 2007\n",
      "**************************************\n",
      "hoşgeldin ORHUN TUNGA sana nasıl yardımcı olabilirim.\n",
      "('siz 2050 yılında', 43, 'yaşında olacaksınız')\n",
      "**************************************\n"
     ]
    }
   ],
   "source": [
    "adı = input(\"Lütfen adınız \")\n",
    "su = input(\"Lütfen soyadınız\")\n",
    "yaş = int(input(\"Doğum yılınızı 4 rakam olarak giriniz \"))\n",
    "hoş = \"hoşgeldin\"\n",
    "yar = \"sana nasıl yardımcı olabilirim.\"\n",
    "print(\"**************************************\")\n",
    "print(hoş,adı,su,yar)\n",
    "print((\"siz 2050 yılında\",2050-yaş,\"yaşında olacaksınız\"))\n",
    "print(\"**************************************\")"
   ]
  },
  {
   "cell_type": "code",
   "execution_count": null,
   "metadata": {},
   "outputs": [],
   "source": []
  },
  {
   "cell_type": "code",
   "execution_count": null,
   "metadata": {},
   "outputs": [],
   "source": []
  },
  {
   "cell_type": "code",
   "execution_count": null,
   "metadata": {},
   "outputs": [],
   "source": []
  },
  {
   "cell_type": "code",
   "execution_count": null,
   "metadata": {},
   "outputs": [],
   "source": []
  },
  {
   "cell_type": "code",
   "execution_count": 18,
   "metadata": {},
   "outputs": [
    {
     "data": {
      "text/plain": [
       "'TUNAKARABAŞMERHABA'"
      ]
     },
     "execution_count": 18,
     "metadata": {},
     "output_type": "execute_result"
    }
   ],
   "source": [
    "a + b + c"
   ]
  },
  {
   "cell_type": "code",
   "execution_count": 19,
   "metadata": {},
   "outputs": [
    {
     "name": "stdout",
     "output_type": "stream",
     "text": [
      "TUNA KARABAŞ MERHABA\n"
     ]
    }
   ],
   "source": [
    "print(a,b,c)"
   ]
  },
  {
   "cell_type": "code",
   "execution_count": 20,
   "metadata": {},
   "outputs": [
    {
     "name": "stdout",
     "output_type": "stream",
     "text": [
      "adınızı yazınız HÜSAMETTİN\n",
      "HÜSAMETTİN MERHABA\n"
     ]
    }
   ],
   "source": [
    "adı = input(\"adınızı yazınız \")\n",
    "print(adı,c)"
   ]
  },
  {
   "cell_type": "code",
   "execution_count": null,
   "metadata": {},
   "outputs": [],
   "source": []
  },
  {
   "cell_type": "code",
   "execution_count": null,
   "metadata": {},
   "outputs": [],
   "source": []
  },
  {
   "cell_type": "code",
   "execution_count": null,
   "metadata": {},
   "outputs": [],
   "source": []
  },
  {
   "cell_type": "code",
   "execution_count": 9,
   "metadata": {},
   "outputs": [
    {
     "data": {
      "text/plain": [
       "'hata düzelttim'"
      ]
     },
     "execution_count": 9,
     "metadata": {},
     "output_type": "execute_result"
    }
   ],
   "source": [
    "ab"
   ]
  },
  {
   "cell_type": "code",
   "execution_count": 11,
   "metadata": {},
   "outputs": [
    {
     "data": {
      "text/plain": [
       "'İNSAN ERKEK KIZ farketmez her bir canlı güzel ve değerlidir'"
      ]
     },
     "execution_count": 11,
     "metadata": {},
     "output_type": "execute_result"
    }
   ],
   "source": [
    "a + b + c + \"farketmez her bir canlı güzel ve değerlidir\""
   ]
  },
  {
   "cell_type": "code",
   "execution_count": null,
   "metadata": {},
   "outputs": [],
   "source": [
    "print (\"merhaba uzayl aramıza hoş geldin\")"
   ]
  },
  {
   "cell_type": "code",
   "execution_count": 12,
   "metadata": {},
   "outputs": [
    {
     "name": "stdout",
     "output_type": "stream",
     "text": [
      "LÜTFEN ADINIZI YAZINIZ AYTEK\n",
      "hoşgeldin AYTEK\n"
     ]
    }
   ],
   "source": [
    "adı = input(\"LÜTFEN ADINIZI YAZINIZ \")\n",
    "print(\"hoşgeldin \", adı)"
   ]
  },
  {
   "cell_type": "code",
   "execution_count": null,
   "metadata": {
    "scrolled": true
   },
   "outputs": [],
   "source": [
    "a = input(\"adınızı giriniz\")\n",
    "b = int(input(\"doğum tarihinizİ yıl olarak yyyy giriniz\"))\n",
    "c = float(input(\"kilonuzu giriniz\"))\n",
    "e = float(input(\"boyunuzu giriniz\"))\n",
    "b = 2019 - b\n",
    "print(\"Adınız:{}\\nYaşınız:{}\\nKilonuz:{}\\nboyunuz:{}\".format(a,b,c,e))"
   ]
  },
  {
   "cell_type": "code",
   "execution_count": 6,
   "metadata": {},
   "outputs": [],
   "source": [
    "a = \"aytek\"\n",
    "b = \"şen\""
   ]
  },
  {
   "cell_type": "code",
   "execution_count": null,
   "metadata": {},
   "outputs": [],
   "source": []
  },
  {
   "cell_type": "code",
   "execution_count": 2,
   "metadata": {},
   "outputs": [
    {
     "data": {
      "text/plain": [
       "'aytekşen'"
      ]
     },
     "execution_count": 2,
     "metadata": {},
     "output_type": "execute_result"
    }
   ],
   "source": [
    "a+b"
   ]
  },
  {
   "cell_type": "code",
   "execution_count": 3,
   "metadata": {},
   "outputs": [
    {
     "name": "stdout",
     "output_type": "stream",
     "text": [
      "aytek şen\n"
     ]
    }
   ],
   "source": [
    "print(a,b)"
   ]
  },
  {
   "cell_type": "code",
   "execution_count": null,
   "metadata": {},
   "outputs": [],
   "source": []
  }
 ],
 "metadata": {
  "kernelspec": {
   "display_name": "Python 3",
   "language": "python",
   "name": "python3"
  },
  "language_info": {
   "codemirror_mode": {
    "name": "ipython",
    "version": 3
   },
   "file_extension": ".py",
   "mimetype": "text/x-python",
   "name": "python",
   "nbconvert_exporter": "python",
   "pygments_lexer": "ipython3",
   "version": "3.7.3"
  }
 },
 "nbformat": 4,
 "nbformat_minor": 2
}
